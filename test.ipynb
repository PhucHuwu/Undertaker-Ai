{
 "cells": [
  {
   "cell_type": "code",
   "execution_count": 46,
   "id": "67a652ad",
   "metadata": {},
   "outputs": [],
   "source": [
    "from langchain.text_splitter import RecursiveCharacterTextSplitter\n",
    "from langchain_community.vectorstores import FAISS"
   ]
  },
  {
   "cell_type": "code",
   "execution_count": 63,
   "id": "f6ea91c7",
   "metadata": {},
   "outputs": [],
   "source": [
    "with open(\"dataset.txt\", \"r\") as f:\n",
    "    data = \" \".join([line.strip() for line in f])"
   ]
  },
  {
   "cell_type": "code",
   "execution_count": 64,
   "id": "b74477ed",
   "metadata": {},
   "outputs": [],
   "source": [
    "splitter = RecursiveCharacterTextSplitter(chunk_size=1000, chunk_overlap=200)\n",
    "chunks = splitter.create_documents([data])"
   ]
  },
  {
   "cell_type": "code",
   "execution_count": 65,
   "id": "468c1404",
   "metadata": {},
   "outputs": [],
   "source": [
    "from langchain.embeddings import HuggingFaceEmbeddings\n",
    "\n",
    "embeddings = HuggingFaceEmbeddings(model_name=\"BAAI/bge-small-en-v1.5\")\n",
    "vector_store = FAISS.from_documents(chunks, embeddings)"
   ]
  },
  {
   "cell_type": "code",
   "execution_count": 82,
   "id": "75ef82c4",
   "metadata": {},
   "outputs": [
    {
     "data": {
      "text/plain": [
       "[Document(id='83440912-639e-40b7-b45e-fa5d189bafca', metadata={}, page_content='bị đè sập ý nghĩ và tình thần cô, loáng thoáng nghe được giọng của Shin. “Thiếu tá! Tắt đồng bộ ngay! Thiếu tá Millize!” Trong giọng nói của thiếu niên luôn trầm tĩnh như cậu mang theo vẻ nôn nóng hiếm thấy, nhưng một Lena đã hoảng hốt thì không nghe thấy được. Cô chỉ cố hết sức che tai lại, co rúm người trốn tránh tất cả, gào thét lên mong có thể át đi những tiếng kêu kia, nhưng tiếng kêu lúc lâm chung mãi không ngừng đó dần dần gặm nhấm lý trí cô… “Tch!” Shin chậc lưỡi, tắt đồng bộ đi. Tiếng la hét thảm thiết cũng biến mất ngay. “……A…” Lena chậm chạp ngẩng đầu lên, buông hai tay ra trong sợ hãi… Không nghe thấy gì nữa. Coi bộ tất cả Processor đều đã tắt đồng bộ. Lena không biết đã từ ghế ngã xuống đất từ lúc nào, nhịp thở trở nên dồn dập vì sợ hãi, đôi mắt trợn trừng trong kinh hãi nhìn vào bóng đen trong phòng quản lí. …Thứ khi nãy… là gì…? Đó không phải bắt nguồn từ các Processor cô đồng bộ. Không phải tiếng nói của bất cứ ai, mà là một thứ xa hơn nữa, nhiều hơn nữa. Bên trong'),\n",
       " Document(id='836b3dbf-b1d5-4005-a522-aebb790a72c4', metadata={}, page_content='nhiều tiếng kêu gào thảm thiết của hồn ma. Vì sao không cần tuần tra… Vì sao Shin lại bình tĩnh không hợp tuổi như vậy? Trong trận chiến đó, Raiden như có được câu trả lời. Doanh trại của binh đoàn Spearhead sau khi tắt đèn liền trở nên yên tĩnh. Còn Raiden đang nằm lăn lộn trên giường không tài nào ngủ nổi, nghe thấy tiếng bước chân nhẹ nhàng nên đứng dậy. Nhìn vào căn phòng ngủ bên cạnh đang không đóng cửa, cậu trông thấy Shin đứng bên trong căn phòng tối tăm, phía đằng trước cửa sổ được ánh trăng chiếu thành màu xanh dương. “Khi nãy cậu nói chuyện với ai sao?” Raiden nhớ lại, hình như nghe được tiếng Shin nói chuyện trong phòng tắm và phòng thay đồ ở lầu dưới. Shin nhìn về phía Raiden, gật đầu rồi nói “Đúng thế”. Vẻ bình tĩnh già dặn, và tính cách lạnh lùng không bao giờ bị lung lay, khiến cho đôi mắt màu đỏ nhìn chăm chăm vào Raiden hiện ra vẻ lạnh lẽo vô cùng. “Thiếu tá đó. Khi nãy đồng bộ với tôi, nói chuyện một lúc.” “…A, cô ấy chủ động liên lạc sao. Cô tiểu thư đó mạnh mẽ'),\n",
       " Document(id='2a48c7f8-41f1-4b0c-b036-dbf9bcc3f3f4', metadata={}, page_content='chết hư vô, chỉ còn là tiếng nói mơ hồ và trống rỗng, liên tục lặp lại không ngừng. “Mẹ. Mẹ. Mẹ mẹ mẹ mẹ mẹ mẹ mẹ mẹ mẹ mẹ mẹ mẹ mẹ mẹ mẹ mẹ mẹ mẹ mẹ mẹ mẹ mẹ mẹ mẹ mẹ mẹ mẹ mẹ mẹ mẹ mẹ mẹ mẹ mẹ mẹ mẹ mẹ mẹ mẹ mẹ mẹ mẹ mẹ mẹ mẹ mẹ mẹ mẹ mẹ mẹ mẹ mẹ mẹ mẹ mẹ mẹ mẹ mẹ mẹ mẹ mẹ mẹ mẹ mẹ mẹ mẹ mẹ mẹ mẹ mẹ mẹ…” “Hiiiiii!” Tóc gáy cô dựng đứng. Lena lấy hai tay bịt tại lại, nhưng âm thanh vẫn truyền tới qua đồng bộ giác quan, thế nên dù có kháng cự ra sao cũng vô ích. Tiếng rên gọi mẹ lúc sắp chết liên tục đổ vào trong đầu cô. Âm thanh này đã không còn ý nghĩa của ngôn ngữ, chỉ còn là những tiếng động trước khi chết, đơn điệu, trống rỗng vô cùng, chỉ còn là quyết tâm đã vỡ vụn. Tiếng kêu gọi mẹ đó ngay sau đó bị tiếng pháo chói tai xua đi. Nhưng lại có tiếng rên khác nghe y như vậy đổ vào trong đầu. “Cứu tôi, cứu tôi, cứu tôi, cứu tôi, cứu tôi, cứu tôi, cứu tôi, cứu tôi, cứu tôi, cứu tôi, cứu tôi, cứu tôi, cứu tôi, cứu tôi…” “Nóng quá, nóng quá, nóng quá, nóng quá, nóng quá, nóng quá, nóng'),\n",
       " Document(id='bcd3372e-e07d-466d-95c5-09f05d1fc540', metadata={}, page_content='dưới sự che chắn của các công trình kiến trúc đổ vỡ và gạch đá vụn, đã chạy tới trước. Nhanh chóng né tránh đường đạn của người máy địch, còn bản thân cậu lại chuẩn xác không tha cho bất kì con mồi nào. Phiên bản trinh sát, phiên bản thợ săn tầm gần, thậm chí còn linh hoạt lẻn tới góc chết của phiên bản tăng mà tự mình giải quyết mục tiêu, hoặc dụ mục tiêu đi vào phạm vi pháo của đồng đội, sau đó tiêu diệt. Nhiệm vụ của Shin, và cũng là cách thức chiến đấu cậu am hiểu nhất, đó là liều lĩnh xâm nhập vào hàng ngũ địch, cận chiến với kẻ địch, quấy rối không cho quân địch thiết lập đối hình. Đôi mắt đỏ như máu phản chiếu ánh đèn màu đỏ cảnh báo kẻ địch tiếp cận vẫn chưa từng tắt nãy giờ, nhưng cậu đã không quan tâm màn hình ra đa tràn đầy điểm sáng quân địch từ lâu. Đúng như tên gọi, như một Thần chết có quyền quyết định thứ tự chết của các chiến binh, trong ánh mắt lạnh lùng đang tuyển chọn đối tượng chém giết tiếp theo, bất chợt xuất hiện sự dao động. Thứ đó vẫn chưa ra trận hả? Ý nghĩ'),\n",
       " Document(id='e9eaf4ed-c331-4988-8e01-0d2e56aceee4', metadata={}, page_content='loạt âm thanh máy móc và tiếng gào thét của mọi người vang lên trong kho chứa người máy, vô cùng ầm ĩ, vì hiện đang trong lúc bảo trì máy móc. Còn tại cái sân phía trước kho chứa người máy, có người đang chơi bóng rổ theo luật hai đấu hai kì quái, có người thì đang lớn tiếng cổ vũ, cũng nghe được tiếng đàn ghi-ta hoài niệm vang lên, đánh theo một ca khúc anime xưa cũ. Ngồi bên trong khoang điều khiển đang mở, Kino phát hiện ánh mắt của Shin, liền giơ tay lên vẫy gọi. Mặc dù sống tại chiến trường ngoài cùng, nhưng những lúc không phải chiến đấu này, các thành viên của căn cứ vẫn sinh hoạt rất thoải mái. Thật ra thì theo báo cáo gửi cho sĩ quan quản lí, đáng ra giờ là lúc đi tuần tra tại khu vực gần chiến trường, nhưng loại công việc tuần tra hàng ngày này thì binh đoàn coi như không cần thiết, nên cũng không cắt cử ai đi làm. Một số người muốn đổi mới không khí thì tới những khu phế tích tại các thành phố gần đó để tìm kiếm vật dụng, những ai không có nhiệm vụ phân công (như nấu cơm,'),\n",
       " Document(id='d3687229-d66f-42b0-8c76-ca919d37fa40', metadata={}, page_content='Shin chần chờ mất một lúc, sau đó mới nói tiếp. “Thực ra tôi cũng thấy rất vui… Vì tôi cũng không nhớ nhiều chuyện của anh tôi nữa.” Những lời nói ra với vẻ rung động đó khiến cho Lena không thể tin nổi. Đây là lần đầu tiên cô nghe được Shin thể hiện cảm xúc của mình bằng giọng thế này. “…Đại úy Nouzen.” “Có thể nhờ cậy thiếu tá cũng không quên bọn tôi không?” Shin hẳn chỉ là muốn đùa một chút. Thực ra, giọng của cậu nghe cũng chỉ là đang nói đùa. Nhưng mà, hiệu suất đồng bộ của thiết bị đồng bộ giác quan được điều chỉnh cao hơn một chút. Chỉ có một chút đó. Nhưng vẫn truyền đạt được vào trong lòng Lena nguyện vọng nhỏ bé giấu đằng sau những lời này. Có thể không quên bọn tôi không? Sau khi bọn tôi đã chết rồi, chỉ cần vẫn nhớ tới trong một thời gian ngắn là đủ. Lena chậm rãi đóng mắt lại. Cho dù có mạnh tới mức nào, cho dù đã sống sót sau bao trận chiến. Đối với họ, cái chết vẫn là rất gần. “Tất nhiên là được… Nhưng mà…” Cô hít vào một hơi, chắc chắn thể hiện quyết tâm của mình. Vì'),\n",
       " Document(id='dd4d4727-0ef0-44e4-a537-17679ca75cc4', metadata={}, page_content='thứ đáng tin duy nhất là màn hình ra đa thăm dò. Tiếng mẹ đẻ của Shin không phải tiếng của nước Cộng hòa, thế nên cậu cũng không hiểu được cậu đang nói thứ gì. Dicit ei Legio nomen mihi … Raiden không nghe tiếp được nữa, không khỏi lên tiếng cắt ngang. “Shin, cậu đang đọc kinh thánh đó hả? Cậu làm trò này hơi ác đấy, lại còn chọn đúng đoạn đó nữa, thằng này cũng đầu hàng cậu rồi!” “Đoạn đó nghĩa là gì vậy?” “Chúa trời hỏi ác ma tên là gì, ác ma nói rằng chúng rất đông, nên gọi là Legion.” Raiden không nói gì nữa. Đúng là đoạn này ác thật. Đúng lúc đó, có người khác tham gia đồng bộ giác quan. “Handler One gọi toàn bộ thành viên binh đoàn… Xin lỗi, tôi chậm quá.” Giọng nói như tiếng chuông ngân khiến người khác nảy sinh thiện cảm vang lên qua thiết bị RAID. Đây là vị sĩ quan quản lí mới nhậm chức, thay thế cho sĩ quan cũ đã từ chức vì sợ Thần chết. Dựa theo giọng nói thì có lẽ người này là một thiếu nữ tầm tuổi họ. “Quân địch đang trong lúc tiếp cận. Mọi người xin hãy chặn đánh ở tọa'),\n",
       " Document(id='0759a48c-0449-4274-a855-d5c0f9f38768', metadata={}, page_content='cậu thật đấy.” Sau đó lại có tin nhắn tới. “Có cố gắng ra sao vì 86 thì cũng chỉ là phí công vô ích thôi.” Lena quay đầu lại nhìn phía sau. Tối hôm qua trước khi ngủ, Lena đã phân tích một chút đối với ghi chép chiến đấu của binh đoàn Spearhead. Đó là bản báo cáo chiến đấu có nội dung rõ ràng, thể hiện sự cẩn thận của người viết, đi cùng với báo cáo thực hiện nhiệm vụ do chính Juggnernaut ghi chép. Mặc dù nội dung của báo cáo tuần tra vẫn giống như không có gì như trước kia, nhưng ngoài ra thì các tài liệu khác đều như báu vật, thật giống một kho báu thông tin về mặt chiến đấu với Legion. Bản thân không hề phí công vô ích. Chuyện này chắc chắn có thể tăng thêm một chút xác suất sống sót của mọi người. “Xin lỗi cậu.” “…Thiếu tá tham dự lễ hội đó cũng được mà?” Những thời điểm trên báo cáo là tuần tra giờ đã thành lúc rảnh rỗi cho họ trò chuyện. Shin vừa bảo dưỡng khẩu súng trường đặt bên trong khoang điều khiển của Juggernaut vừa thản nhiên nói với Lena đang nói chuyện cùng cậu qua'),\n",
       " Document(id='816875d6-d0e6-42e4-9597-0e23b2ad670b', metadata={}, page_content='nữa này.” Những thứ đặc biệt không thể được nhà máy tự động và dây chuyền sản xuất tạo ra mỗi tháng sẽ được tiếp tế một lần qua đường hàng không. Shin đang kiểm tra thử xem danh sách và chuyến hàng có gì khác nhau không, thì nghe thấy giọng nói không coi ai ra gì đó, cậu ngẩng đầu lên. Kẻ đó còn dẫn theo hai quân binh cầm súng trường, dường như là để đe dọa. Tên sĩ quan mặc bộ quân phục trông có hơi chật đó đưa tay lên vê cằm. Shin mặc kệ sự đe dọa của tên đó, vì quân binh phía sau chốt an toàn cả súng vẫn còn chưa mở nữa, đạn cũng chưa lên nòng. Vị trí đứng của ba người này quá gần, chỉ cần Shin nghĩ đến, bất kì lúc nào cũng có thể khống chế toàn bộ đám người này trước khi súng khai hỏa. Nhưng cậu chưa có rảnh đến mức đó. “Đây là do chủ nhân sĩ quan quản lí gửi tới. Nghe bảo là loại tên lửa đặc biệt đám bọn mày cầu xin. Đúng là láo toét, súc vật mà cũng dám làm phiền loài người…” Sau lưng sĩ quan là một kiện hàng chịu lực trông rất chắc chắn, rất nhiều giấy niêm phong và cờ cảnh báo'),\n",
       " Document(id='414a7d6d-1b36-45f3-b07a-355e71371b81', metadata={}, page_content='tại trại tập trung nào thì giờ muốn tra cũng không thể nào tra được. “Lúc này thiết bị RAID đã an toàn rồi, nên không có vấn đề gì lớn lắm, nhưng nếu thực hiện đồng bộ giác quan trên nhiều người, sẽ xảy ra việc bộ não quá tải và bốc cháy, còn nếu đồng bộ trong thời gian dài với công suất lớn nhất thì có khả năng thần kinh sụp đổ. Còn nếu kích hoạt nhiều quá sẽ có thể không quay về… Cậu cũng biết phải không, giống như sự cố của cha mình năm đó vậy.” “……” Cha của Arnett, tiến sĩ Joseph Von Penrose, sau khi hoàn thành nghiên cứu đồng bộ giác quan và thiết bị RAID chưa được bao lâu, gặp phải sự cố ngoài ý muốn trong thí nghiệm nên phát điên, rồi chết. Có người nói thiết bị RAID đã điều chỉnh lên mức độ kích hoạt lớn nhất theo lí thuyết. Ông đã đi tới một nơi sâu hơn cả tập hợp vô ý thức, tại một nơi toàn bộ loài người biến thành một chỉnh thể – là trung tâm của tập hợp vô ý thức được tạo thành từ toàn bộ thế giới. “Hiện tại vẫn chưa biết được sử dụng lâu dài có tạo thành tác động tiêu cực')]"
      ]
     },
     "execution_count": 82,
     "metadata": {},
     "output_type": "execute_result"
    }
   ],
   "source": [
    "retriever = vector_store.as_retriever(search_type=\"similarity\", search_kwargs={\"k\": 10})\n",
    "retriever.invoke('Thông tin của Shin')"
   ]
  },
  {
   "cell_type": "code",
   "execution_count": 86,
   "id": "fe661661",
   "metadata": {},
   "outputs": [],
   "source": [
    "from groq import Groq\n",
    "from apikey import api\n",
    "\n",
    "client = Groq(api_key=api)\n",
    "\n",
    "\n",
    "def get_answer_from_context(question: str, context: str) -> str:\n",
    "    prompt = f\"\"\"Câu hỏi: {question}\n",
    "Ngữ cảnh: {context}\n",
    "Trả lời:\"\"\"\n",
    "    response = client.chat.completions.create(\n",
    "        model=\"llama3-70b-8192\",\n",
    "        messages=[\n",
    "            {\"role\": \"system\", \"content\": \"Bạn là một trợ lý hữu ích. Chỉ trả lời dựa trên dữ liệu cung cấp. Nếu dữ liệu không đủ, chỉ cần nói bạn không biết. Câu trả lời phải luôn là tiếng Việt.\"},\n",
    "            {\"role\": \"user\", \"content\": prompt}\n",
    "        ],\n",
    "        temperature=1,\n",
    "        max_tokens=8192,\n",
    "        top_p=1,\n",
    "        stream=False\n",
    "    )\n",
    "    return response.choices[0].message.content"
   ]
  },
  {
   "cell_type": "code",
   "execution_count": 88,
   "id": "42f1f6e3",
   "metadata": {},
   "outputs": [
    {
     "name": "stdout",
     "output_type": "stream",
     "text": [
      "Thông tin về Shin:\n",
      "\n",
      "* Shin là một thiếu tá trong binh đoàn Spearhead.\n",
      "* Cậu có vẻ bình tĩnh, già dặn và lạnh lùng, không bao giờ bị lung lay.\n",
      "* Cậu có thể đồng bộ với người khác, nghe được tiếng nói của họ và nói chuyện với họ.\n",
      "* Cậu có thể khống chế và tiêu diệt quân địch với kỹ năng chiến đấu cao.\n",
      "* Cậu có một cảm xúc bí mật, mong muốn không quên và được nhớ tới.\n",
      "* Cậu có thể nói những lời không bình thường, ví dụ như đọc kinh thánh.\n",
      "* Cậu có thể kiểm soát và điều chỉnh thiết bị RAID, đồng bộ với người khác.\n",
      "* Cậu có quan hệ đặc biệt với Lena, có thể nói chuyện với cô và hiểu cảm xúc của cô.\n"
     ]
    }
   ],
   "source": [
    "question = \"Thông tin của Shin\"\n",
    "retrieved_docs = retriever.invoke(question)\n",
    "\n",
    "context_text = \"\\n\\n\".join(doc.page_content for doc in retrieved_docs)\n",
    "\n",
    "answer = get_answer_from_context(question, context_text)\n",
    "print(answer)"
   ]
  }
 ],
 "metadata": {
  "kernelspec": {
   "display_name": "base",
   "language": "python",
   "name": "python3"
  },
  "language_info": {
   "codemirror_mode": {
    "name": "ipython",
    "version": 3
   },
   "file_extension": ".py",
   "mimetype": "text/x-python",
   "name": "python",
   "nbconvert_exporter": "python",
   "pygments_lexer": "ipython3",
   "version": "3.11.5"
  }
 },
 "nbformat": 4,
 "nbformat_minor": 5
}
