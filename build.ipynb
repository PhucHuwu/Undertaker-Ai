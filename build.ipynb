{
 "cells": [
  {
   "cell_type": "code",
   "execution_count": 33,
   "id": "67a652ad",
   "metadata": {},
   "outputs": [],
   "source": [
    "from langchain.text_splitter import RecursiveCharacterTextSplitter\n",
    "from langchain_community.vectorstores import FAISS"
   ]
  },
  {
   "cell_type": "code",
   "execution_count": 34,
   "id": "f6ea91c7",
   "metadata": {},
   "outputs": [],
   "source": [
    "with open(\"dataset.txt\", \"r\") as f:\n",
    "    data = \" \".join([line.strip() for line in f])"
   ]
  },
  {
   "cell_type": "code",
   "execution_count": 35,
   "id": "b74477ed",
   "metadata": {},
   "outputs": [],
   "source": [
    "splitter = RecursiveCharacterTextSplitter(chunk_size=1000, chunk_overlap=200)\n",
    "chunks = splitter.create_documents([data])"
   ]
  },
  {
   "cell_type": "code",
   "execution_count": 36,
   "id": "468c1404",
   "metadata": {},
   "outputs": [],
   "source": [
    "from langchain.embeddings import HuggingFaceEmbeddings\n",
    "\n",
    "embeddings = HuggingFaceEmbeddings(model_name=\"BAAI/bge-small-en-v1.5\")\n",
    "vector_store = FAISS.from_documents(chunks, embeddings)"
   ]
  },
  {
   "cell_type": "code",
   "execution_count": null,
   "id": "4350c1fe",
   "metadata": {},
   "outputs": [
    {
     "name": "stderr",
     "output_type": "stream",
     "text": [
      "c:\\Users\\PC\\anaconda3\\envs\\orb-slam-py\\lib\\site-packages\\umap\\umap_.py:1952: UserWarning:\n",
      "\n",
      "n_jobs value 1 overridden to 1 by setting random_state. Use no seed for parallelism.\n",
      "\n"
     ]
    },
    {
     "data": {
      "application/vnd.plotly.v1+json": {
       "config": {
        "plotlyServerURL": "https://plot.ly"
       },
       "data": [
        {
         "hovertemplate": "Type=Base<br>UMAP1=%{x}<br>UMAP2=%{y}<extra></extra>",
         "legendgroup": "Base",
         "marker": {
          "color": "gray",
          "size": 8,
          "symbol": "circle"
         },
         "mode": "markers",
         "name": "Base",
         "orientation": "v",
         "showlegend": true,
         "type": "scatter",
         "x": {
          "bdata": "4/kKQZEMDUFYJi1BMKEOQXXTCUF4pyxBCfc6QR0VREEFBExBwlFSQfb4VUERKkpBGCBLQQMnV0EnQk1BDVE7Qc+lQEGTvTVBBUhGQXBYS0E0b1JB7dFWQW30UEH6GE1B0LRNQbr9TEH1yzNBV8NHQRRqTUGJS0VBjRQ9QXKsUkFmoFZB421XQQ9NVEEnp1ZBF3Y4QVuqR0GKhSpBSI1WQXzhS0EBJjpBndIVQTcrN0EAABBBoidHQfnTUUGQezNB3lZQQZgATEHra0hBI6FDQbLXQUGC/j1BmihKQTtmTEGKID5B3p1FQd/iQEGDA0FBJ5xCQYT9QEGo+ClBOERCQS6yD0FISQxB+V44QYOqTEHjoDBBeQ0ZQT9AIkFGHSZBZUgTQa3BL0EUiyVBrs9OQRmTMEE9dkZBpkArQY9pMkGmTTJBw+MTQf6pFEG6vjdBX8s3QUfjJEExDShBCkAUQUvFJEFj/ixBKNIpQQ13R0E0jTxBz7wtQTZ4OEFc8TBBU65AQUwZO0EouzdBGjlQQbesKEH1JzVBD9cbQXibK0E1iTNBdb85QbrINUFiO1JBsQY7QWvdMUFY4glBUWEqQXdfO0GSDjNBtFU/QVe4PkG04D9B3r80QduGLEE7O09BGu4aQc8kTEGnY0BBOEVPQWFlJUFaAwxBizgIQc01B0GSxQVBzHk4QX+qQUF9tUBBOhhQQZ4uR0ELNSpBh3YoQfn5H0GvixFBFnAHQaLACEHmiy5BBJEJQXY/IUHY7QpBsA8HQTt6RkFNS1FBF00zQXbHWEFbCUxBoeZRQZB3UEF++lRBMsBQQS2/UEFmK0xBJzJHQUpLH0HCwktBJ1QpQSs9J0GrITFBfKgyQZmlSUFXtz9BwXouQQpxKUFAZldBQrBTQacWUUHCxlFBUVw+QX5RPEHYv0FBYRZHQbm5SkEqvklBPjsrQVbTTkFvYVRBwdEmQVBNKEFEJDRBB1RWQQ6CFEGQnjhB3Ic2QRPHIkGieyFBjbsgQcqPFUHCK01BrQpIQUtWF0E43ilBUcxEQU29VUFVhlhBJjxXQal+VUGsyTlBFm47QWiFVEHrDFNB2ZhWQQYoU0HUPDVB0dRVQYttVkHSaFdByepWQaa7WEHwd0xBHnZOQURuLkF/rDNBT+M8QfVzNEEI2DFBBKw5QTPUN0HSPj1BuS44QfPwKkHl2yRBWlkuQR5ZJEFILDtBLsctQeV5OkEm3zVBIoM8QQyxR0G9nkVBc/0jQWb/NUFkIh5B5c4XQQD+GkFZ8h5BLR8xQSMlGUEvlhZB9fErQY9SJUETEDVBgWpWQUHtOUEEEklBd15EQdImPUGgak1BGK5MQVqYKEEQaj9BuFw5QdkMQEGmUD5BGN4vQSFCSkFU6z1B9JUaQbAzFUEKxTBBbIlMQSPdL0FDwT9B4vQXQQhiIEEuaB1BFfQeQdaUMEE=",
          "dtype": "f4"
         },
         "xaxis": "x",
         "y": {
          "bdata": "p/hFQWrPQEG1RkZBxIdFQejMQkEW+y9BSywpQcT5K0GiPhlBLqEbQfL2HkFN9BpBkgIbQQeKHkHnfGNBrYpeQVAxVEHHDSZBRa9HQVuYVEFvWiNBx0wgQbloHEG+ZiFBSToYQdgpKkFuCCJBNnxQQa6kWkEKd1BBhrROQe/lT0E7dmRBZ4hdQbuVOUE+iiJBFrdKQab8V0FEOFFBM41jQfzhNkHZOSNBImtBQV/HUUFp0D1BpvZoQZ6ZaEH0KVFBQ9A8QdqCZEEyqGhBqCJPQfGSWUGp11lBwyRdQZNIPEEazV1BXH9DQRTHRkEy3kZBtUJjQVwmX0E7dztBmDJEQW2DSkEFxEVBwTc2QayOGkFA3StBs6o7QXioJEH+9kBBhNg4QY1cLEEmjlRBe8QwQb8KV0HHizRB0VJBQbLdPUFg+kNBv91cQS67W0FtMltBNCtZQVbGWUHvT2BBe1ZcQRlvXEGV1GJBqf5hQbxQI0G/yBxBS0M7QWg+G0G1hBtBT14iQYorQ0GOnTFBrywvQfZiP0G0QktBoI1fQSazMkH3xx9BVLshQeYoIEGd8TNBmTguQRh+PEHjmzxBXrUgQV8PNEHXxypB5UMgQSxTH0FCZR9BRTkdQYn/H0GszhZBUQ1CQYPqN0HQ0x9BtY4WQa00RkHIXD5B8XE+QdDzQUFh7z9BM8AlQVlqLkEQzj9BdKk0QZyHNUEqQklBHi5DQWlsPEFZ+FlB8YVAQcJ8Q0H7vF1Bj7Y/QUl4XkEQ1T1BgG9AQcYwOUFc90dBUV4pQYvnYkG/T11Bc8NmQcdRaEF6xWNBsHdiQfkdYkEUbmtBj6trQT9mYEF+mClBxDhYQUjgWEF8Rl9B4BdhQcXsbEGXLTBBJdoxQT9nOEG/g15BnYJOQapUVkHns0xBGBpoQcW+aEHUZ2tBH8pfQVdUYEFrIEFB8lZPQTyAWkGwa1dBFNkvQcG0MEEI1ldBU+ZdQcQoNUHGTWhB6FtoQey+IUFLzSVB4ulIQYhKSkFXR2xBBMNgQRsMX0E0ATxBmcJYQZzPQEFJkTtBmIlCQXjiRUFlcitBSXNRQXuOOEG9KTRBsk8gQTd/S0FmeTlBzMFJQcZoPUFrVzpBWJE/QWNiPkG6lDxBCVk/QSWoTUHvnjJB+IlAQRV3RkHzf15BD19EQd5/PUGBiD9BSeBHQSPyNUGkjCZBSjhWQVA6U0G881hBQDRXQaMVaEEQckNB/V04QfalWUEhEFhB36tbQfajSEEvLFpB4UReQcPKWUFB3EtBsalLQYX+YEEe2lxBqilEQUl1SUGV/WBBF9xiQYnCaUHTfExBKaxoQbqZHkFSjmZBzJFrQWnbTUH392pBbolaQaNWbEFPUU9BrJ1QQaPFJEHohjFBG2FhQYgGYkHbcTFBF98gQRGgNUHKiFhBtQ1ZQdAOSUGfckpBYwhTQRJBM0E=",
          "dtype": "f4"
         },
         "yaxis": "y"
        },
        {
         "hovertemplate": "Type=Query<br>UMAP1=%{x}<br>UMAP2=%{y}<extra></extra>",
         "legendgroup": "Query",
         "marker": {
          "color": "green",
          "size": 12,
          "symbol": "circle"
         },
         "mode": "markers",
         "name": "Query",
         "orientation": "v",
         "showlegend": true,
         "type": "scatter",
         "x": {
          "bdata": "JMYjQQ==",
          "dtype": "f4"
         },
         "xaxis": "x",
         "y": {
          "bdata": "dDQiQQ==",
          "dtype": "f4"
         },
         "yaxis": "y"
        },
        {
         "hovertemplate": "Type=Similar<br>UMAP1=%{x}<br>UMAP2=%{y}<extra></extra>",
         "legendgroup": "Similar",
         "marker": {
          "color": "red",
          "size": 12,
          "symbol": "circle"
         },
         "mode": "markers",
         "name": "Similar",
         "orientation": "v",
         "showlegend": true,
         "type": "scatter",
         "x": {
          "bdata": "zykjQbYSN0HQOzdBsbtQQT8AMEF7bUFBq8kwQS9KU0GmXSpBCUBAQQ==",
          "dtype": "f4"
         },
         "xaxis": "x",
         "y": {
          "bdata": "4Q4jQegEPUF+2mhBaW8VQdOLK0FurW1B3TA9QbP2TkHTL0JBeYNHQQ==",
          "dtype": "f4"
         },
         "yaxis": "y"
        }
       ],
       "layout": {
        "legend": {
         "title": {
          "text": "Type"
         },
         "tracegroupgap": 0
        },
        "template": {
         "data": {
          "bar": [
           {
            "error_x": {
             "color": "#f2f5fa"
            },
            "error_y": {
             "color": "#f2f5fa"
            },
            "marker": {
             "line": {
              "color": "rgb(17,17,17)",
              "width": 0.5
             },
             "pattern": {
              "fillmode": "overlay",
              "size": 10,
              "solidity": 0.2
             }
            },
            "type": "bar"
           }
          ],
          "barpolar": [
           {
            "marker": {
             "line": {
              "color": "rgb(17,17,17)",
              "width": 0.5
             },
             "pattern": {
              "fillmode": "overlay",
              "size": 10,
              "solidity": 0.2
             }
            },
            "type": "barpolar"
           }
          ],
          "carpet": [
           {
            "aaxis": {
             "endlinecolor": "#A2B1C6",
             "gridcolor": "#506784",
             "linecolor": "#506784",
             "minorgridcolor": "#506784",
             "startlinecolor": "#A2B1C6"
            },
            "baxis": {
             "endlinecolor": "#A2B1C6",
             "gridcolor": "#506784",
             "linecolor": "#506784",
             "minorgridcolor": "#506784",
             "startlinecolor": "#A2B1C6"
            },
            "type": "carpet"
           }
          ],
          "choropleth": [
           {
            "colorbar": {
             "outlinewidth": 0,
             "ticks": ""
            },
            "type": "choropleth"
           }
          ],
          "contour": [
           {
            "colorbar": {
             "outlinewidth": 0,
             "ticks": ""
            },
            "colorscale": [
             [
              0,
              "#0d0887"
             ],
             [
              0.1111111111111111,
              "#46039f"
             ],
             [
              0.2222222222222222,
              "#7201a8"
             ],
             [
              0.3333333333333333,
              "#9c179e"
             ],
             [
              0.4444444444444444,
              "#bd3786"
             ],
             [
              0.5555555555555556,
              "#d8576b"
             ],
             [
              0.6666666666666666,
              "#ed7953"
             ],
             [
              0.7777777777777778,
              "#fb9f3a"
             ],
             [
              0.8888888888888888,
              "#fdca26"
             ],
             [
              1,
              "#f0f921"
             ]
            ],
            "type": "contour"
           }
          ],
          "contourcarpet": [
           {
            "colorbar": {
             "outlinewidth": 0,
             "ticks": ""
            },
            "type": "contourcarpet"
           }
          ],
          "heatmap": [
           {
            "colorbar": {
             "outlinewidth": 0,
             "ticks": ""
            },
            "colorscale": [
             [
              0,
              "#0d0887"
             ],
             [
              0.1111111111111111,
              "#46039f"
             ],
             [
              0.2222222222222222,
              "#7201a8"
             ],
             [
              0.3333333333333333,
              "#9c179e"
             ],
             [
              0.4444444444444444,
              "#bd3786"
             ],
             [
              0.5555555555555556,
              "#d8576b"
             ],
             [
              0.6666666666666666,
              "#ed7953"
             ],
             [
              0.7777777777777778,
              "#fb9f3a"
             ],
             [
              0.8888888888888888,
              "#fdca26"
             ],
             [
              1,
              "#f0f921"
             ]
            ],
            "type": "heatmap"
           }
          ],
          "histogram": [
           {
            "marker": {
             "pattern": {
              "fillmode": "overlay",
              "size": 10,
              "solidity": 0.2
             }
            },
            "type": "histogram"
           }
          ],
          "histogram2d": [
           {
            "colorbar": {
             "outlinewidth": 0,
             "ticks": ""
            },
            "colorscale": [
             [
              0,
              "#0d0887"
             ],
             [
              0.1111111111111111,
              "#46039f"
             ],
             [
              0.2222222222222222,
              "#7201a8"
             ],
             [
              0.3333333333333333,
              "#9c179e"
             ],
             [
              0.4444444444444444,
              "#bd3786"
             ],
             [
              0.5555555555555556,
              "#d8576b"
             ],
             [
              0.6666666666666666,
              "#ed7953"
             ],
             [
              0.7777777777777778,
              "#fb9f3a"
             ],
             [
              0.8888888888888888,
              "#fdca26"
             ],
             [
              1,
              "#f0f921"
             ]
            ],
            "type": "histogram2d"
           }
          ],
          "histogram2dcontour": [
           {
            "colorbar": {
             "outlinewidth": 0,
             "ticks": ""
            },
            "colorscale": [
             [
              0,
              "#0d0887"
             ],
             [
              0.1111111111111111,
              "#46039f"
             ],
             [
              0.2222222222222222,
              "#7201a8"
             ],
             [
              0.3333333333333333,
              "#9c179e"
             ],
             [
              0.4444444444444444,
              "#bd3786"
             ],
             [
              0.5555555555555556,
              "#d8576b"
             ],
             [
              0.6666666666666666,
              "#ed7953"
             ],
             [
              0.7777777777777778,
              "#fb9f3a"
             ],
             [
              0.8888888888888888,
              "#fdca26"
             ],
             [
              1,
              "#f0f921"
             ]
            ],
            "type": "histogram2dcontour"
           }
          ],
          "mesh3d": [
           {
            "colorbar": {
             "outlinewidth": 0,
             "ticks": ""
            },
            "type": "mesh3d"
           }
          ],
          "parcoords": [
           {
            "line": {
             "colorbar": {
              "outlinewidth": 0,
              "ticks": ""
             }
            },
            "type": "parcoords"
           }
          ],
          "pie": [
           {
            "automargin": true,
            "type": "pie"
           }
          ],
          "scatter": [
           {
            "marker": {
             "line": {
              "color": "#283442"
             }
            },
            "type": "scatter"
           }
          ],
          "scatter3d": [
           {
            "line": {
             "colorbar": {
              "outlinewidth": 0,
              "ticks": ""
             }
            },
            "marker": {
             "colorbar": {
              "outlinewidth": 0,
              "ticks": ""
             }
            },
            "type": "scatter3d"
           }
          ],
          "scattercarpet": [
           {
            "marker": {
             "colorbar": {
              "outlinewidth": 0,
              "ticks": ""
             }
            },
            "type": "scattercarpet"
           }
          ],
          "scattergeo": [
           {
            "marker": {
             "colorbar": {
              "outlinewidth": 0,
              "ticks": ""
             }
            },
            "type": "scattergeo"
           }
          ],
          "scattergl": [
           {
            "marker": {
             "line": {
              "color": "#283442"
             }
            },
            "type": "scattergl"
           }
          ],
          "scattermap": [
           {
            "marker": {
             "colorbar": {
              "outlinewidth": 0,
              "ticks": ""
             }
            },
            "type": "scattermap"
           }
          ],
          "scattermapbox": [
           {
            "marker": {
             "colorbar": {
              "outlinewidth": 0,
              "ticks": ""
             }
            },
            "type": "scattermapbox"
           }
          ],
          "scatterpolar": [
           {
            "marker": {
             "colorbar": {
              "outlinewidth": 0,
              "ticks": ""
             }
            },
            "type": "scatterpolar"
           }
          ],
          "scatterpolargl": [
           {
            "marker": {
             "colorbar": {
              "outlinewidth": 0,
              "ticks": ""
             }
            },
            "type": "scatterpolargl"
           }
          ],
          "scatterternary": [
           {
            "marker": {
             "colorbar": {
              "outlinewidth": 0,
              "ticks": ""
             }
            },
            "type": "scatterternary"
           }
          ],
          "surface": [
           {
            "colorbar": {
             "outlinewidth": 0,
             "ticks": ""
            },
            "colorscale": [
             [
              0,
              "#0d0887"
             ],
             [
              0.1111111111111111,
              "#46039f"
             ],
             [
              0.2222222222222222,
              "#7201a8"
             ],
             [
              0.3333333333333333,
              "#9c179e"
             ],
             [
              0.4444444444444444,
              "#bd3786"
             ],
             [
              0.5555555555555556,
              "#d8576b"
             ],
             [
              0.6666666666666666,
              "#ed7953"
             ],
             [
              0.7777777777777778,
              "#fb9f3a"
             ],
             [
              0.8888888888888888,
              "#fdca26"
             ],
             [
              1,
              "#f0f921"
             ]
            ],
            "type": "surface"
           }
          ],
          "table": [
           {
            "cells": {
             "fill": {
              "color": "#506784"
             },
             "line": {
              "color": "rgb(17,17,17)"
             }
            },
            "header": {
             "fill": {
              "color": "#2a3f5f"
             },
             "line": {
              "color": "rgb(17,17,17)"
             }
            },
            "type": "table"
           }
          ]
         },
         "layout": {
          "annotationdefaults": {
           "arrowcolor": "#f2f5fa",
           "arrowhead": 0,
           "arrowwidth": 1
          },
          "autotypenumbers": "strict",
          "coloraxis": {
           "colorbar": {
            "outlinewidth": 0,
            "ticks": ""
           }
          },
          "colorscale": {
           "diverging": [
            [
             0,
             "#8e0152"
            ],
            [
             0.1,
             "#c51b7d"
            ],
            [
             0.2,
             "#de77ae"
            ],
            [
             0.3,
             "#f1b6da"
            ],
            [
             0.4,
             "#fde0ef"
            ],
            [
             0.5,
             "#f7f7f7"
            ],
            [
             0.6,
             "#e6f5d0"
            ],
            [
             0.7,
             "#b8e186"
            ],
            [
             0.8,
             "#7fbc41"
            ],
            [
             0.9,
             "#4d9221"
            ],
            [
             1,
             "#276419"
            ]
           ],
           "sequential": [
            [
             0,
             "#0d0887"
            ],
            [
             0.1111111111111111,
             "#46039f"
            ],
            [
             0.2222222222222222,
             "#7201a8"
            ],
            [
             0.3333333333333333,
             "#9c179e"
            ],
            [
             0.4444444444444444,
             "#bd3786"
            ],
            [
             0.5555555555555556,
             "#d8576b"
            ],
            [
             0.6666666666666666,
             "#ed7953"
            ],
            [
             0.7777777777777778,
             "#fb9f3a"
            ],
            [
             0.8888888888888888,
             "#fdca26"
            ],
            [
             1,
             "#f0f921"
            ]
           ],
           "sequentialminus": [
            [
             0,
             "#0d0887"
            ],
            [
             0.1111111111111111,
             "#46039f"
            ],
            [
             0.2222222222222222,
             "#7201a8"
            ],
            [
             0.3333333333333333,
             "#9c179e"
            ],
            [
             0.4444444444444444,
             "#bd3786"
            ],
            [
             0.5555555555555556,
             "#d8576b"
            ],
            [
             0.6666666666666666,
             "#ed7953"
            ],
            [
             0.7777777777777778,
             "#fb9f3a"
            ],
            [
             0.8888888888888888,
             "#fdca26"
            ],
            [
             1,
             "#f0f921"
            ]
           ]
          },
          "colorway": [
           "#636efa",
           "#EF553B",
           "#00cc96",
           "#ab63fa",
           "#FFA15A",
           "#19d3f3",
           "#FF6692",
           "#B6E880",
           "#FF97FF",
           "#FECB52"
          ],
          "font": {
           "color": "#f2f5fa"
          },
          "geo": {
           "bgcolor": "rgb(17,17,17)",
           "lakecolor": "rgb(17,17,17)",
           "landcolor": "rgb(17,17,17)",
           "showlakes": true,
           "showland": true,
           "subunitcolor": "#506784"
          },
          "hoverlabel": {
           "align": "left"
          },
          "hovermode": "closest",
          "mapbox": {
           "style": "dark"
          },
          "paper_bgcolor": "rgb(17,17,17)",
          "plot_bgcolor": "rgb(17,17,17)",
          "polar": {
           "angularaxis": {
            "gridcolor": "#506784",
            "linecolor": "#506784",
            "ticks": ""
           },
           "bgcolor": "rgb(17,17,17)",
           "radialaxis": {
            "gridcolor": "#506784",
            "linecolor": "#506784",
            "ticks": ""
           }
          },
          "scene": {
           "xaxis": {
            "backgroundcolor": "rgb(17,17,17)",
            "gridcolor": "#506784",
            "gridwidth": 2,
            "linecolor": "#506784",
            "showbackground": true,
            "ticks": "",
            "zerolinecolor": "#C8D4E3"
           },
           "yaxis": {
            "backgroundcolor": "rgb(17,17,17)",
            "gridcolor": "#506784",
            "gridwidth": 2,
            "linecolor": "#506784",
            "showbackground": true,
            "ticks": "",
            "zerolinecolor": "#C8D4E3"
           },
           "zaxis": {
            "backgroundcolor": "rgb(17,17,17)",
            "gridcolor": "#506784",
            "gridwidth": 2,
            "linecolor": "#506784",
            "showbackground": true,
            "ticks": "",
            "zerolinecolor": "#C8D4E3"
           }
          },
          "shapedefaults": {
           "line": {
            "color": "#f2f5fa"
           }
          },
          "sliderdefaults": {
           "bgcolor": "#C8D4E3",
           "bordercolor": "rgb(17,17,17)",
           "borderwidth": 1,
           "tickwidth": 0
          },
          "ternary": {
           "aaxis": {
            "gridcolor": "#506784",
            "linecolor": "#506784",
            "ticks": ""
           },
           "baxis": {
            "gridcolor": "#506784",
            "linecolor": "#506784",
            "ticks": ""
           },
           "bgcolor": "rgb(17,17,17)",
           "caxis": {
            "gridcolor": "#506784",
            "linecolor": "#506784",
            "ticks": ""
           }
          },
          "title": {
           "x": 0.05
          },
          "updatemenudefaults": {
           "bgcolor": "#506784",
           "borderwidth": 0
          },
          "xaxis": {
           "automargin": true,
           "gridcolor": "#283442",
           "linecolor": "#506784",
           "ticks": "",
           "title": {
            "standoff": 15
           },
           "zerolinecolor": "#283442",
           "zerolinewidth": 2
          },
          "yaxis": {
           "automargin": true,
           "gridcolor": "#283442",
           "linecolor": "#506784",
           "ticks": "",
           "title": {
            "standoff": 15
           },
           "zerolinecolor": "#283442",
           "zerolinewidth": 2
          }
         }
        },
        "title": {
         "text": "Vector Embeddings trong không gian 2D"
        },
        "xaxis": {
         "anchor": "y",
         "domain": [
          0,
          1
         ],
         "title": {
          "text": "UMAP1"
         }
        },
        "yaxis": {
         "anchor": "x",
         "domain": [
          0,
          1
         ],
         "title": {
          "text": "UMAP2"
         }
        }
       }
      }
     },
     "metadata": {},
     "output_type": "display_data"
    }
   ],
   "source": [
    "import numpy as np\n",
    "from umap import UMAP\n",
    "import plotly.express as px\n",
    "import plotly.graph_objects as go\n",
    "import pandas as pd\n",
    "\n",
    "base_vectors = np.array([embeddings.embed_query(chunk.page_content) for chunk in chunks])\n",
    "\n",
    "query = \"Thông tin của Shin\"\n",
    "query_vector = embeddings.embed_query(query)\n",
    "\n",
    "D, I = vector_store.index.search(np.array([query_vector]), k=10)\n",
    "similar_vectors = np.array([embeddings.embed_query(chunks[i].page_content) for i in I[0]])\n",
    "\n",
    "all_vectors = np.vstack([base_vectors, [query_vector], similar_vectors])\n",
    "\n",
    "umap_2d = UMAP(n_components=2, random_state=42)\n",
    "vectors_2d = umap_2d.fit_transform(all_vectors)\n",
    "\n",
    "n_base = len(base_vectors)\n",
    "labels = ['Base'] * n_base + ['Query'] + ['Similar'] * len(similar_vectors)\n",
    "colors = {'Base': 'gray', 'Query': 'green', 'Similar': 'red'}\n",
    "\n",
    "df = pd.DataFrame({\n",
    "    'UMAP1': vectors_2d[:, 0],\n",
    "    'UMAP2': vectors_2d[:, 1],\n",
    "    'Type': labels\n",
    "})\n",
    "\n",
    "fig = px.scatter(df, x='UMAP1', y='UMAP2', \n",
    "                color='Type',\n",
    "                color_discrete_map=colors,\n",
    "                title='Vector Embeddings trong không gian 2D',\n",
    "                template='plotly_dark')\n",
    "\n",
    "fig.update_traces(marker=dict(size=8))\n",
    "fig.update_traces(marker=dict(size=12), selector=dict(name='Query'))\n",
    "fig.update_traces(marker=dict(size=12), selector=dict(name='Similar'))\n",
    "\n",
    "fig.show()\n",
    "\n",
    "fig.write_html(\"vector_visualization.html\", include_plotlyjs=True, full_html=True)"
   ]
  },
  {
   "cell_type": "code",
   "execution_count": 38,
   "id": "75ef82c4",
   "metadata": {},
   "outputs": [
    {
     "data": {
      "text/plain": [
       "[Document(id='e53062ea-f3a3-41de-bfcd-885f7cb92ded', metadata={}, page_content='bị đè sập ý nghĩ và tình thần cô, loáng thoáng nghe được giọng của Shin. “Thiếu tá! Tắt đồng bộ ngay! Thiếu tá Millize!” Trong giọng nói của thiếu niên luôn trầm tĩnh như cậu mang theo vẻ nôn nóng hiếm thấy, nhưng một Lena đã hoảng hốt thì không nghe thấy được. Cô chỉ cố hết sức che tai lại, co rúm người trốn tránh tất cả, gào thét lên mong có thể át đi những tiếng kêu kia, nhưng tiếng kêu lúc lâm chung mãi không ngừng đó dần dần gặm nhấm lý trí cô… “Tch!” Shin chậc lưỡi, tắt đồng bộ đi. Tiếng la hét thảm thiết cũng biến mất ngay. “……A…” Lena chậm chạp ngẩng đầu lên, buông hai tay ra trong sợ hãi… Không nghe thấy gì nữa. Coi bộ tất cả Processor đều đã tắt đồng bộ. Lena không biết đã từ ghế ngã xuống đất từ lúc nào, nhịp thở trở nên dồn dập vì sợ hãi, đôi mắt trợn trừng trong kinh hãi nhìn vào bóng đen trong phòng quản lí. …Thứ khi nãy… là gì…? Đó không phải bắt nguồn từ các Processor cô đồng bộ. Không phải tiếng nói của bất cứ ai, mà là một thứ xa hơn nữa, nhiều hơn nữa. Bên trong'),\n",
       " Document(id='ab666eb4-9cb8-4fea-801e-bf2e3b4ab436', metadata={}, page_content='nhiều tiếng kêu gào thảm thiết của hồn ma. Vì sao không cần tuần tra… Vì sao Shin lại bình tĩnh không hợp tuổi như vậy? Trong trận chiến đó, Raiden như có được câu trả lời. Doanh trại của binh đoàn Spearhead sau khi tắt đèn liền trở nên yên tĩnh. Còn Raiden đang nằm lăn lộn trên giường không tài nào ngủ nổi, nghe thấy tiếng bước chân nhẹ nhàng nên đứng dậy. Nhìn vào căn phòng ngủ bên cạnh đang không đóng cửa, cậu trông thấy Shin đứng bên trong căn phòng tối tăm, phía đằng trước cửa sổ được ánh trăng chiếu thành màu xanh dương. “Khi nãy cậu nói chuyện với ai sao?” Raiden nhớ lại, hình như nghe được tiếng Shin nói chuyện trong phòng tắm và phòng thay đồ ở lầu dưới. Shin nhìn về phía Raiden, gật đầu rồi nói “Đúng thế”. Vẻ bình tĩnh già dặn, và tính cách lạnh lùng không bao giờ bị lung lay, khiến cho đôi mắt màu đỏ nhìn chăm chăm vào Raiden hiện ra vẻ lạnh lẽo vô cùng. “Thiếu tá đó. Khi nãy đồng bộ với tôi, nói chuyện một lúc.” “…A, cô ấy chủ động liên lạc sao. Cô tiểu thư đó mạnh mẽ'),\n",
       " Document(id='0b42c06c-d8ef-49f9-a2ae-251f1f6c1a92', metadata={}, page_content='chết hư vô, chỉ còn là tiếng nói mơ hồ và trống rỗng, liên tục lặp lại không ngừng. “Mẹ. Mẹ. Mẹ mẹ mẹ mẹ mẹ mẹ mẹ mẹ mẹ mẹ mẹ mẹ mẹ mẹ mẹ mẹ mẹ mẹ mẹ mẹ mẹ mẹ mẹ mẹ mẹ mẹ mẹ mẹ mẹ mẹ mẹ mẹ mẹ mẹ mẹ mẹ mẹ mẹ mẹ mẹ mẹ mẹ mẹ mẹ mẹ mẹ mẹ mẹ mẹ mẹ mẹ mẹ mẹ mẹ mẹ mẹ mẹ mẹ mẹ mẹ mẹ mẹ mẹ mẹ mẹ mẹ mẹ mẹ mẹ mẹ mẹ…” “Hiiiiii!” Tóc gáy cô dựng đứng. Lena lấy hai tay bịt tại lại, nhưng âm thanh vẫn truyền tới qua đồng bộ giác quan, thế nên dù có kháng cự ra sao cũng vô ích. Tiếng rên gọi mẹ lúc sắp chết liên tục đổ vào trong đầu cô. Âm thanh này đã không còn ý nghĩa của ngôn ngữ, chỉ còn là những tiếng động trước khi chết, đơn điệu, trống rỗng vô cùng, chỉ còn là quyết tâm đã vỡ vụn. Tiếng kêu gọi mẹ đó ngay sau đó bị tiếng pháo chói tai xua đi. Nhưng lại có tiếng rên khác nghe y như vậy đổ vào trong đầu. “Cứu tôi, cứu tôi, cứu tôi, cứu tôi, cứu tôi, cứu tôi, cứu tôi, cứu tôi, cứu tôi, cứu tôi, cứu tôi, cứu tôi, cứu tôi, cứu tôi…” “Nóng quá, nóng quá, nóng quá, nóng quá, nóng quá, nóng quá, nóng'),\n",
       " Document(id='da903567-1f02-4533-bc9f-392c418369b4', metadata={}, page_content='dưới sự che chắn của các công trình kiến trúc đổ vỡ và gạch đá vụn, đã chạy tới trước. Nhanh chóng né tránh đường đạn của người máy địch, còn bản thân cậu lại chuẩn xác không tha cho bất kì con mồi nào. Phiên bản trinh sát, phiên bản thợ săn tầm gần, thậm chí còn linh hoạt lẻn tới góc chết của phiên bản tăng mà tự mình giải quyết mục tiêu, hoặc dụ mục tiêu đi vào phạm vi pháo của đồng đội, sau đó tiêu diệt. Nhiệm vụ của Shin, và cũng là cách thức chiến đấu cậu am hiểu nhất, đó là liều lĩnh xâm nhập vào hàng ngũ địch, cận chiến với kẻ địch, quấy rối không cho quân địch thiết lập đối hình. Đôi mắt đỏ như máu phản chiếu ánh đèn màu đỏ cảnh báo kẻ địch tiếp cận vẫn chưa từng tắt nãy giờ, nhưng cậu đã không quan tâm màn hình ra đa tràn đầy điểm sáng quân địch từ lâu. Đúng như tên gọi, như một Thần chết có quyền quyết định thứ tự chết của các chiến binh, trong ánh mắt lạnh lùng đang tuyển chọn đối tượng chém giết tiếp theo, bất chợt xuất hiện sự dao động. Thứ đó vẫn chưa ra trận hả? Ý nghĩ'),\n",
       " Document(id='46c40883-f30c-401a-b9d1-7912cb7bf3aa', metadata={}, page_content='loạt âm thanh máy móc và tiếng gào thét của mọi người vang lên trong kho chứa người máy, vô cùng ầm ĩ, vì hiện đang trong lúc bảo trì máy móc. Còn tại cái sân phía trước kho chứa người máy, có người đang chơi bóng rổ theo luật hai đấu hai kì quái, có người thì đang lớn tiếng cổ vũ, cũng nghe được tiếng đàn ghi-ta hoài niệm vang lên, đánh theo một ca khúc anime xưa cũ. Ngồi bên trong khoang điều khiển đang mở, Kino phát hiện ánh mắt của Shin, liền giơ tay lên vẫy gọi. Mặc dù sống tại chiến trường ngoài cùng, nhưng những lúc không phải chiến đấu này, các thành viên của căn cứ vẫn sinh hoạt rất thoải mái. Thật ra thì theo báo cáo gửi cho sĩ quan quản lí, đáng ra giờ là lúc đi tuần tra tại khu vực gần chiến trường, nhưng loại công việc tuần tra hàng ngày này thì binh đoàn coi như không cần thiết, nên cũng không cắt cử ai đi làm. Một số người muốn đổi mới không khí thì tới những khu phế tích tại các thành phố gần đó để tìm kiếm vật dụng, những ai không có nhiệm vụ phân công (như nấu cơm,'),\n",
       " Document(id='3d12de1b-d67b-435d-a786-7ec64e89eb52', metadata={}, page_content='Shin chần chờ mất một lúc, sau đó mới nói tiếp. “Thực ra tôi cũng thấy rất vui… Vì tôi cũng không nhớ nhiều chuyện của anh tôi nữa.” Những lời nói ra với vẻ rung động đó khiến cho Lena không thể tin nổi. Đây là lần đầu tiên cô nghe được Shin thể hiện cảm xúc của mình bằng giọng thế này. “…Đại úy Nouzen.” “Có thể nhờ cậy thiếu tá cũng không quên bọn tôi không?” Shin hẳn chỉ là muốn đùa một chút. Thực ra, giọng của cậu nghe cũng chỉ là đang nói đùa. Nhưng mà, hiệu suất đồng bộ của thiết bị đồng bộ giác quan được điều chỉnh cao hơn một chút. Chỉ có một chút đó. Nhưng vẫn truyền đạt được vào trong lòng Lena nguyện vọng nhỏ bé giấu đằng sau những lời này. Có thể không quên bọn tôi không? Sau khi bọn tôi đã chết rồi, chỉ cần vẫn nhớ tới trong một thời gian ngắn là đủ. Lena chậm rãi đóng mắt lại. Cho dù có mạnh tới mức nào, cho dù đã sống sót sau bao trận chiến. Đối với họ, cái chết vẫn là rất gần. “Tất nhiên là được… Nhưng mà…” Cô hít vào một hơi, chắc chắn thể hiện quyết tâm của mình. Vì'),\n",
       " Document(id='198f1988-a1c8-4c4d-bad4-00f615b9ca47', metadata={}, page_content='thứ đáng tin duy nhất là màn hình ra đa thăm dò. Tiếng mẹ đẻ của Shin không phải tiếng của nước Cộng hòa, thế nên cậu cũng không hiểu được cậu đang nói thứ gì. Dicit ei Legio nomen mihi … Raiden không nghe tiếp được nữa, không khỏi lên tiếng cắt ngang. “Shin, cậu đang đọc kinh thánh đó hả? Cậu làm trò này hơi ác đấy, lại còn chọn đúng đoạn đó nữa, thằng này cũng đầu hàng cậu rồi!” “Đoạn đó nghĩa là gì vậy?” “Chúa trời hỏi ác ma tên là gì, ác ma nói rằng chúng rất đông, nên gọi là Legion.” Raiden không nói gì nữa. Đúng là đoạn này ác thật. Đúng lúc đó, có người khác tham gia đồng bộ giác quan. “Handler One gọi toàn bộ thành viên binh đoàn… Xin lỗi, tôi chậm quá.” Giọng nói như tiếng chuông ngân khiến người khác nảy sinh thiện cảm vang lên qua thiết bị RAID. Đây là vị sĩ quan quản lí mới nhậm chức, thay thế cho sĩ quan cũ đã từ chức vì sợ Thần chết. Dựa theo giọng nói thì có lẽ người này là một thiếu nữ tầm tuổi họ. “Quân địch đang trong lúc tiếp cận. Mọi người xin hãy chặn đánh ở tọa'),\n",
       " Document(id='617509d0-c134-49cf-a1fb-6790e005ed71', metadata={}, page_content='cậu thật đấy.” Sau đó lại có tin nhắn tới. “Có cố gắng ra sao vì 86 thì cũng chỉ là phí công vô ích thôi.” Lena quay đầu lại nhìn phía sau. Tối hôm qua trước khi ngủ, Lena đã phân tích một chút đối với ghi chép chiến đấu của binh đoàn Spearhead. Đó là bản báo cáo chiến đấu có nội dung rõ ràng, thể hiện sự cẩn thận của người viết, đi cùng với báo cáo thực hiện nhiệm vụ do chính Juggnernaut ghi chép. Mặc dù nội dung của báo cáo tuần tra vẫn giống như không có gì như trước kia, nhưng ngoài ra thì các tài liệu khác đều như báu vật, thật giống một kho báu thông tin về mặt chiến đấu với Legion. Bản thân không hề phí công vô ích. Chuyện này chắc chắn có thể tăng thêm một chút xác suất sống sót của mọi người. “Xin lỗi cậu.” “…Thiếu tá tham dự lễ hội đó cũng được mà?” Những thời điểm trên báo cáo là tuần tra giờ đã thành lúc rảnh rỗi cho họ trò chuyện. Shin vừa bảo dưỡng khẩu súng trường đặt bên trong khoang điều khiển của Juggernaut vừa thản nhiên nói với Lena đang nói chuyện cùng cậu qua'),\n",
       " Document(id='714ce494-88be-43ee-98fc-391048f50593', metadata={}, page_content='nữa này.” Những thứ đặc biệt không thể được nhà máy tự động và dây chuyền sản xuất tạo ra mỗi tháng sẽ được tiếp tế một lần qua đường hàng không. Shin đang kiểm tra thử xem danh sách và chuyến hàng có gì khác nhau không, thì nghe thấy giọng nói không coi ai ra gì đó, cậu ngẩng đầu lên. Kẻ đó còn dẫn theo hai quân binh cầm súng trường, dường như là để đe dọa. Tên sĩ quan mặc bộ quân phục trông có hơi chật đó đưa tay lên vê cằm. Shin mặc kệ sự đe dọa của tên đó, vì quân binh phía sau chốt an toàn cả súng vẫn còn chưa mở nữa, đạn cũng chưa lên nòng. Vị trí đứng của ba người này quá gần, chỉ cần Shin nghĩ đến, bất kì lúc nào cũng có thể khống chế toàn bộ đám người này trước khi súng khai hỏa. Nhưng cậu chưa có rảnh đến mức đó. “Đây là do chủ nhân sĩ quan quản lí gửi tới. Nghe bảo là loại tên lửa đặc biệt đám bọn mày cầu xin. Đúng là láo toét, súc vật mà cũng dám làm phiền loài người…” Sau lưng sĩ quan là một kiện hàng chịu lực trông rất chắc chắn, rất nhiều giấy niêm phong và cờ cảnh báo'),\n",
       " Document(id='cbb89385-755c-42d3-bc3b-9cbf7083f62b', metadata={}, page_content='tại trại tập trung nào thì giờ muốn tra cũng không thể nào tra được. “Lúc này thiết bị RAID đã an toàn rồi, nên không có vấn đề gì lớn lắm, nhưng nếu thực hiện đồng bộ giác quan trên nhiều người, sẽ xảy ra việc bộ não quá tải và bốc cháy, còn nếu đồng bộ trong thời gian dài với công suất lớn nhất thì có khả năng thần kinh sụp đổ. Còn nếu kích hoạt nhiều quá sẽ có thể không quay về… Cậu cũng biết phải không, giống như sự cố của cha mình năm đó vậy.” “……” Cha của Arnett, tiến sĩ Joseph Von Penrose, sau khi hoàn thành nghiên cứu đồng bộ giác quan và thiết bị RAID chưa được bao lâu, gặp phải sự cố ngoài ý muốn trong thí nghiệm nên phát điên, rồi chết. Có người nói thiết bị RAID đã điều chỉnh lên mức độ kích hoạt lớn nhất theo lí thuyết. Ông đã đi tới một nơi sâu hơn cả tập hợp vô ý thức, tại một nơi toàn bộ loài người biến thành một chỉnh thể – là trung tâm của tập hợp vô ý thức được tạo thành từ toàn bộ thế giới. “Hiện tại vẫn chưa biết được sử dụng lâu dài có tạo thành tác động tiêu cực')]"
      ]
     },
     "execution_count": 38,
     "metadata": {},
     "output_type": "execute_result"
    }
   ],
   "source": [
    "retriever = vector_store.as_retriever(search_type=\"similarity\", search_kwargs={\"k\": 10})\n",
    "retriever.invoke('Thông tin của Shin')"
   ]
  },
  {
   "cell_type": "code",
   "execution_count": 39,
   "id": "fe661661",
   "metadata": {},
   "outputs": [],
   "source": [
    "from groq import Groq\n",
    "from apikey import api\n",
    "\n",
    "client = Groq(api_key=api)\n",
    "\n",
    "\n",
    "def get_answer_from_context(question: str, context: str) -> str:\n",
    "    prompt = f\"\"\"Câu hỏi: {question}\n",
    "Ngữ cảnh: {context}\n",
    "Trả lời:\"\"\"\n",
    "    response = client.chat.completions.create(\n",
    "        model=\"llama3-70b-8192\",\n",
    "        messages=[\n",
    "            {\"role\": \"system\", \"content\": \"Bạn là một trợ lý hữu ích. Chỉ trả lời dựa trên dữ liệu cung cấp. Nếu dữ liệu không đủ, chỉ cần nói bạn không biết. Câu trả lời phải luôn là tiếng Việt.\"},\n",
    "            {\"role\": \"user\", \"content\": prompt}\n",
    "        ],\n",
    "        temperature=1,\n",
    "        max_tokens=8192,\n",
    "        top_p=1,\n",
    "        stream=False\n",
    "    )\n",
    "    return response.choices[0].message.content"
   ]
  },
  {
   "cell_type": "code",
   "execution_count": 40,
   "id": "42f1f6e3",
   "metadata": {},
   "outputs": [
    {
     "name": "stdout",
     "output_type": "stream",
     "text": [
      "Shin là một nhân vật trong truyện, anh là một Processor, được eğit đào tạo để chiến đấu chống lại các Legion, là các robot được phát triển để giết người. Shin có khả năng chiến đấu vượt trội và được gọi là \"Thần chết\" do khả năng quyết định thứ tự chết của các chiến binh.\n",
      "\n",
      "Shin có một quá khứ đau buồn, anh bị cha xứ kéo đi sau khi anh trai của anh tức giận và ra đi. Shin sau đó đã chiến đấu chống lại Legion và trở thành một Processor.\n",
      "\n",
      "Shin có một vấn đề về trí nhớ, anh không nhớ nhiều chuyện của anh trai và cha mẹ anh. Tuy nhiên, khi nói chuyện với Lena, Shin đã nhớ lại một số kỷ niệm về quá khứ, bao gồm cả một kỷ niệm về pháo hoa tại dinh tổng thống ở khu 1.\n",
      "\n",
      "Shin có một tính cách lạnh lùng và bình tĩnh, anh ít khi bày tỏ cảm xúc và thường nói lời lẽ lạnh lùng. Tuy nhiên, trong một số tình huống, anh lại thể hiện được một số cảm xúc, chẳng hạn như khó chịu và tức giận.\n"
     ]
    }
   ],
   "source": [
    "question = \"Shin là ai? Cho tôi biết về thông tin của Shin.\"\n",
    "retrieved_docs = retriever.invoke(question)\n",
    "\n",
    "context_text = \"\\n\\n\".join(doc.page_content for doc in retrieved_docs)\n",
    "\n",
    "answer = get_answer_from_context(question, context_text)\n",
    "print(answer)"
   ]
  }
 ],
 "metadata": {
  "kernelspec": {
   "display_name": "orb-slam-py",
   "language": "python",
   "name": "python3"
  },
  "language_info": {
   "codemirror_mode": {
    "name": "ipython",
    "version": 3
   },
   "file_extension": ".py",
   "mimetype": "text/x-python",
   "name": "python",
   "nbconvert_exporter": "python",
   "pygments_lexer": "ipython3",
   "version": "3.10.16"
  }
 },
 "nbformat": 4,
 "nbformat_minor": 5
}
